{
 "cells": [
  {
   "cell_type": "markdown",
   "id": "f3ff5811",
   "metadata": {},
   "source": [
    "##  Numpy array and basics\n",
    "learn about numpy "
   ]
  },
  {
   "cell_type": "code",
   "execution_count": 2,
   "id": "41cc90a0",
   "metadata": {},
   "outputs": [
    {
     "name": "stdout",
     "output_type": "stream",
     "text": [
      "1D array: [1 2 3 4 5]\n",
      "2D array: [[1 2 3]\n",
      " [4 5 6]]\n"
     ]
    }
   ],
   "source": [
    "import numpy as np\n",
    "arr_1d = np.array([1,2 ,3,4,5])\n",
    "print(\"1D array:\", arr_1d)\n",
    "\n",
    "arr_2d = np.array([[1,2,3], [4,5,6]])\n",
    "print(\"2D array:\", arr_2d)\n"
   ]
  },
  {
   "cell_type": "markdown",
   "id": "a79c4ab3",
   "metadata": {},
   "source": [
    "### List vs Numpy array"
   ]
  },
  {
   "cell_type": "code",
   "execution_count": 11,
   "id": "70bae51a",
   "metadata": {},
   "outputs": [
    {
     "name": "stdout",
     "output_type": "stream",
     "text": [
      "Python list multiplication [1, 2, 3, 1, 2, 3]\n",
      "Python array multiplication [2 4 6]\n",
      "\n",
      " List operation time: 0.006014347076416016\n",
      "\n",
      " Numpy Operation Time:  0.0016655921936035156\n"
     ]
    }
   ],
   "source": [
    "py_list = [1,2,3]\n",
    "print(\"Python list multiplication\", py_list* 2)\n",
    "\n",
    "np_array = np.array([1 ,2 , 3])   # element wise multiplication\n",
    "print(\"Python array multiplication\", np_array * 2)\n",
    "\n",
    "\n",
    "import time\n",
    "start = time.time()\n",
    "py_list = [i*2 for i in range(100000)]\n",
    "print(\"\\n List operation time:\", time.time() - start)\n",
    "\n",
    "\n",
    "start = time.time()\n",
    "np_array = np.arange(100000)*2\n",
    "print(\"\\n Numpy Operation Time: \", time.time()- start)\n"
   ]
  },
  {
   "cell_type": "markdown",
   "id": "1e20adf6",
   "metadata": {},
   "source": [
    "Creating Array From Scratch"
   ]
  },
  {
   "cell_type": "code",
   "execution_count": null,
   "id": "7d2c7eef",
   "metadata": {},
   "outputs": [
    {
     "name": "stdout",
     "output_type": "stream",
     "text": [
      "Zeros array: \n",
      " [[0. 0. 0. 0.]\n",
      " [0. 0. 0. 0.]\n",
      " [0. 0. 0. 0.]]\n",
      "one array \n",
      " [[1. 1. 1.]\n",
      " [1. 1. 1.]]\n",
      " full array: \n",
      " [[7 7]\n",
      " [7 7]]\n",
      "random array: \n",
      " [[0.70684503 0.45255147 0.46488245]\n",
      " [0.35747778 0.76149179 0.73068274]]\n",
      "random array: \n",
      " [0 2 4 6 8]\n"
     ]
    }
   ],
   "source": [
    "zeros = np.zeros((3,4))\n",
    "print(\"Zeros array: \\n\", zeros)\n",
    "\n",
    "ones = np.ones((2,3))\n",
    "print(\"one array \\n\",ones)\n",
    "\n",
    "full = np.full((2,2), 7)\n",
    "print(\" full array: \\n\", full)\n",
    "\n",
    "random =  np.random.random((2,3))\n",
    "print(\"random array: \\n\", random);\n",
    "\n",
    "\n",
    "sequence = np.arange(0, 10, 2)\n",
    "print(\"sequence array: \\n\", sequence)\n",
    "\n",
    " \n"
   ]
  },
  {
   "cell_type": "markdown",
   "id": "3c66e0c9",
   "metadata": {},
   "source": [
    "vector , Matrix and tensor"
   ]
  },
  {
   "cell_type": "code",
   "execution_count": 5,
   "id": "37d74231",
   "metadata": {},
   "outputs": [
    {
     "name": "stdout",
     "output_type": "stream",
     "text": [
      "vector: [1 2 3]\n",
      "Matrix [[1 2 3]\n",
      " [4 5 6]]\n",
      "Tensor \n",
      " [[[1 2]\n",
      "  [3 4]]\n",
      "\n",
      " [[5 6]\n",
      "  [7 8]]]\n"
     ]
    }
   ],
   "source": [
    "vector = np.array([1,2,3])\n",
    "print(\"vector:\", vector)\n",
    "\n",
    "matrix = np.array([[1, 2, 3],\n",
    "                  [4, 5, 6]])\n",
    "\n",
    "print(\"Matrix\", matrix)\n",
    "\n",
    "tensor = np.array([[[1, 2], [3, 4]],\n",
    "                   [[5, 6], [7 , 8]]])\n",
    "\n",
    "print(\"Tensor \\n\", tensor )\n",
    "\n"
   ]
  },
  {
   "cell_type": "markdown",
   "id": "dd2da139",
   "metadata": {},
   "source": [
    "## Array Properties"
   ]
  },
  {
   "cell_type": "code",
   "execution_count": 9,
   "id": "dbef63cb",
   "metadata": {},
   "outputs": [
    {
     "name": "stdout",
     "output_type": "stream",
     "text": [
      "Shape (4, 2)\n",
      "Dimension 2\n",
      "Size  8\n",
      "DType <U21\n"
     ]
    }
   ],
   "source": [
    "arr = np.array([[1, 2], [3, 4],\n",
    "                   [5, 6], [7 , \"7.9\"]])\n",
    "\n",
    "print(\"Shape\", arr.shape)\n",
    "print(\"Dimension\", arr.ndim)\n",
    "print(\"Size \", arr.size)\n",
    "print(\"DType\", arr.dtype)"
   ]
  },
  {
   "cell_type": "markdown",
   "id": "06e62aa7",
   "metadata": {},
   "source": [
    "## Array Reshaping "
   ]
  },
  {
   "cell_type": "code",
   "execution_count": 22,
   "id": "ba8c8a44",
   "metadata": {},
   "outputs": [
    {
     "name": "stdout",
     "output_type": "stream",
     "text": [
      "original Array [ 0  1  2  3  4  5  6  7  8  9 10 11]\n",
      "\n",
      " reshaped array \n",
      " [[ 0  1  2  3]\n",
      " [ 4  5  6  7]\n",
      " [ 8  9 10 11]]\n",
      "\n",
      " Flattened array [ 0  1  2  3  4  5  6  7  8  9 10 11]\n",
      "\n",
      " raveled array  [ 0  1  2  3  4  5  6  7  8  9 10 11]\n",
      "\n",
      " Transpose array \n",
      " [[ 0  4  8]\n",
      " [ 1  5  9]\n",
      " [ 2  6 10]\n",
      " [ 3  7 11]]\n"
     ]
    }
   ],
   "source": [
    "arr = np.arange(12)\n",
    "print(\"original Array\", arr)\n",
    "\n",
    "reshaped = arr.reshape((3, 4))\n",
    "print(\"\\n reshaped array \\n\", reshaped)\n",
    "\n",
    "\n",
    "flattened  = reshaped.flatten()\n",
    "print(\"\\n Flattened array\", flattened)\n",
    "\n",
    "\n",
    "# ravel (returns view , instead of copy)\n",
    "raveled = reshaped.ravel()\n",
    "print(\"\\n raveled array \", raveled)\n",
    "\n",
    "# Transpose\n",
    "transpose = reshaped.T\n",
    "print(\"\\n Transpose array \\n\", transpose)\n"
   ]
  }
 ],
 "metadata": {
  "kernelspec": {
   "display_name": ".venv",
   "language": "python",
   "name": "python3"
  },
  "language_info": {
   "codemirror_mode": {
    "name": "ipython",
    "version": 3
   },
   "file_extension": ".py",
   "mimetype": "text/x-python",
   "name": "python",
   "nbconvert_exporter": "python",
   "pygments_lexer": "ipython3",
   "version": "3.13.1"
  }
 },
 "nbformat": 4,
 "nbformat_minor": 5
}
