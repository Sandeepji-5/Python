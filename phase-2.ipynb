{
 "cells": [
  {
   "cell_type": "markdown",
   "id": "e0c9f862",
   "metadata": {},
   "source": [
    "##  Numpy array Operations"
   ]
  },
  {
   "cell_type": "code",
   "execution_count": 2,
   "id": "0a8e9862",
   "metadata": {},
   "outputs": [],
   "source": [
    "import numpy as np"
   ]
  },
  {
   "cell_type": "code",
   "execution_count": 4,
   "id": "bcce54f9",
   "metadata": {},
   "outputs": [
    {
     "name": "stdout",
     "output_type": "stream",
     "text": [
      " Basic Slicing  [3 4 5 6 7]\n",
      "with step [2 4 6 8]\n",
      "Negative indexing 8\n"
     ]
    }
   ],
   "source": [
    "arr= np.array([1,2,3,4,5,6,7,8,9,10])\n",
    "print(\" Basic Slicing \", arr[2:7])\n",
    "print(\"with step\", arr[1: 8: 2])\n",
    "print(\"Negative indexing\", arr[-3])\n"
   ]
  },
  {
   "cell_type": "code",
   "execution_count": null,
   "id": "017e39a2",
   "metadata": {},
   "outputs": [
    {
     "name": "stdout",
     "output_type": "stream",
     "text": [
      " Specific element  6\n",
      "Entire row  [4 5 6]\n",
      "Entire row:  [2 5 8]\n"
     ]
    }
   ],
   "source": [
    "arr_2d = np.array([[1,2,3],\n",
    "                   [4,5 ,6],\n",
    "                   [7,8,9]])\n",
    "\n",
    "print(\" Specific element \", arr_2d[1,2])\n",
    "print(\"Entire row \", arr_2d[1])\n",
    "print(\"Entire row: \", arr_2d[:, 1])# : = represents all rows  "
   ]
  },
  {
   "cell_type": "markdown",
   "id": "ee53dc35",
   "metadata": {},
   "source": [
    "## Sorting"
   ]
  },
  {
   "cell_type": "code",
   "execution_count": 8,
   "id": "f3aa1617",
   "metadata": {},
   "outputs": [
    {
     "name": "stdout",
     "output_type": "stream",
     "text": [
      "Sorted Array [1 2 3 4 5 6 9]\n",
      "Sorted @D array by column [[1 1]\n",
      " [2 2]\n",
      " [3 3]]\n"
     ]
    }
   ],
   "source": [
    "unsorted = np.array([3,1, 4, 5,9, 2, 6])\n",
    "print(\"Sorted Array\", np.sort(unsorted))\n",
    "\n",
    "\n",
    "arr_2d_unsorted = np.array([[3,1], [1, 2], [2,3]])\n",
    "print(\"Sorted @D array by column\", np.sort(arr_2d_unsorted, axis =0))"
   ]
  },
  {
   "cell_type": "markdown",
   "id": "1c6b5e7d",
   "metadata": {},
   "source": [
    "## Filter"
   ]
  },
  {
   "cell_type": "code",
   "execution_count": 9,
   "id": "44f3c121",
   "metadata": {},
   "outputs": [
    {
     "name": "stdout",
     "output_type": "stream",
     "text": [
      "Even numbers [ 2  4  6  8 10]\n"
     ]
    }
   ],
   "source": [
    "numbers =  np.array([ 1, 2, 3, 4, 5, 6,7,8,9,10])\n",
    "even_number = numbers[numbers % 2 == 0]\n",
    "print(\"Even numbers\", even_number)\n"
   ]
  },
  {
   "cell_type": "markdown",
   "id": "8b4d146d",
   "metadata": {},
   "source": [
    "## Filter With Mask"
   ]
  },
  {
   "cell_type": "code",
   "execution_count": 10,
   "id": "9fa5fa9c",
   "metadata": {},
   "outputs": [
    {
     "name": "stdout",
     "output_type": "stream",
     "text": [
      "NUmbers greater than 5 [ 6  7  8  9 10]\n"
     ]
    }
   ],
   "source": [
    "mask  = numbers > 5\n",
    "print(\"NUmbers greater than 5\", numbers[mask])\n"
   ]
  },
  {
   "cell_type": "markdown",
   "id": "5dbae74e",
   "metadata": {},
   "source": [
    "## Fancy Indexing vs np.where"
   ]
  },
  {
   "cell_type": "code",
   "execution_count": 11,
   "id": "b9f786d8",
   "metadata": {},
   "outputs": [
    {
     "name": "stdout",
     "output_type": "stream",
     "text": [
      "NP where  [1 3 5]\n",
      "(array([5, 6, 7, 8, 9]),)\n",
      "NP Where [ 6  7  8  9 10]\n"
     ]
    }
   ],
   "source": [
    "indices  = [0, 2, 4]\n",
    "print(\"NP where \", numbers[indices])\n",
    "\n",
    "where_result = np.where(numbers > 5)\n",
    "print(where_result)\n",
    "print(\"NP Where\", numbers[where_result])\n",
    "\n"
   ]
  },
  {
   "cell_type": "code",
   "execution_count": 15,
   "id": "ebfa27aa",
   "metadata": {},
   "outputs": [
    {
     "name": "stdout",
     "output_type": "stream",
     "text": [
      "[ 1  2  3  4  5 30 35 40 45 50]\n"
     ]
    }
   ],
   "source": [
    "condition_array = np.where(numbers > 5, numbers*5, numbers)\n",
    "print(condition_array)\n",
    "\n"
   ]
  },
  {
   "cell_type": "markdown",
   "id": "31e1e2ed",
   "metadata": {},
   "source": [
    "## Adding and Removing Data"
   ]
  },
  {
   "cell_type": "code",
   "execution_count": null,
   "id": "30fb9601",
   "metadata": {},
   "outputs": [
    {
     "name": "stdout",
     "output_type": "stream",
     "text": [
      "[5 7 9]\n",
      "[1 2 3 4 5 6]\n"
     ]
    }
   ],
   "source": [
    "arr1 = np.array([1,2,3])\n",
    "arr2 = np.array([4,5,6])\n",
    "\n",
    "combined = arr1 + arr2   # added the value\n",
    "print(combined)\n",
    "\n",
    "combined  =  np.concatenate((arr1, arr2))\n",
    "print(combined)\n",
    "\n"
   ]
  },
  {
   "cell_type": "markdown",
   "id": "c5052cb7",
   "metadata": {},
   "source": [
    "## Array Compatibilty"
   ]
  },
  {
   "cell_type": "code",
   "execution_count": 4,
   "id": "c78b7397",
   "metadata": {},
   "outputs": [
    {
     "name": "stdout",
     "output_type": "stream",
     "text": [
      "Compatibility shaped  False\n"
     ]
    }
   ],
   "source": [
    "a = np.array([1,2,3])\n",
    "b = np.array([4, 5,6,7])\n",
    "c = np.array([7, 8, 9])\n",
    "\n",
    "print(\"Compatibility shaped \", a.shape == b.shape)"
   ]
  },
  {
   "cell_type": "code",
   "execution_count": null,
   "id": "b9a5d70f",
   "metadata": {},
   "outputs": [
    {
     "name": "stdout",
     "output_type": "stream",
     "text": [
      "[[1 2]\n",
      " [3 4]]\n",
      "[[1 2]\n",
      " [3 4]\n",
      " [5 6]]\n",
      "With new Column \n",
      " [[1 2 7]\n",
      " [3 4 8]]\n"
     ]
    }
   ],
   "source": [
    "original = np.array([[1, 2], [3, 4]])\n",
    "new_row = np.array([[5, 6]])\n",
    "\n",
    "with_new_row = np.vstack((original, new_row) )\n",
    "print(original)\n",
    "print(with_new_row)\n",
    "\n",
    "new_col = np.array([[7], [8]])\n",
    "with_new_col = np.hstack((original, new_col))\n",
    "print(\"With new Column \\n\", with_new_col)\n"
   ]
  },
  {
   "cell_type": "code",
   "execution_count": 9,
   "id": "886915b2",
   "metadata": {},
   "outputs": [
    {
     "name": "stdout",
     "output_type": "stream",
     "text": [
      "Array after deletion: [1 2 4 5]\n"
     ]
    }
   ],
   "source": [
    "arr = np.array([1, 2, 3, 4, 5])\n",
    "deleted = np.delete(arr, 2)\n",
    "print(\"Array after deletion:\", deleted)\n"
   ]
  }
 ],
 "metadata": {
  "kernelspec": {
   "display_name": ".venv",
   "language": "python",
   "name": "python3"
  },
  "language_info": {
   "codemirror_mode": {
    "name": "ipython",
    "version": 3
   },
   "file_extension": ".py",
   "mimetype": "text/x-python",
   "name": "python",
   "nbconvert_exporter": "python",
   "pygments_lexer": "ipython3",
   "version": "3.13.1"
  }
 },
 "nbformat": 4,
 "nbformat_minor": 5
}
